{
  "nbformat": 4,
  "nbformat_minor": 0,
  "metadata": {
    "colab": {
      "name": "Arunava_2021csm1020_Lab1.ipynb",
      "provenance": [],
      "collapsed_sections": []
    },
    "kernelspec": {
      "name": "python3",
      "display_name": "Python 3"
    },
    "language_info": {
      "name": "python"
    }
  },
  "cells": [
    {
      "cell_type": "markdown",
      "source": [
        "# CS512 (AI) Lab Assignment - 1 \n",
        "\n",
        "###**Due on: 6th Feb 2022 2400 Hrs | Total Marks: 100**\n",
        "\n",
        "**Submission Instructions**:\n",
        "\n",
        "All submission is through google classroom submitting the colab (.ipynb file). In case you face any trouble with the submission, please contact the TAs:\n",
        "\n",
        "*   Armaan Garg, 2019CSZ0002@iitrpr.ac.in\n",
        "*   Shivam Kainth shivam.20csz0006@iitrpr.ac.in\n",
        "\n",
        "Your submission must be your original work. Do not indulge in any kind of plagiarism or copying. Abide by the honour and integrity code to do your assignment.\n",
        "\n",
        "\n",
        "\n",
        "**Penalty Policy**: Late submissions will attract penalties. There will be a penalty of 5% for every 24 Hr delay in the submission. E.g. for 1st 24 Hr delay the penalty will be 5%, for submission with a delay of >24 Hr and < 48 Hr, the penalty will be 10% and so on.\n",
        "\n",
        "All the plots and observations should be added to the colab notebook itself.\n",
        "\n",
        "**Naming Convention**:\n",
        "\n",
        "Name the colab file submission as follows: Name_rollnumber_Labnumber.ipynb\n",
        "E.g. if your name is ABC, roll number is 2019csx1234 and submission is for assignment1 then you should name the colab file as: ABC_2019csx1234_Lab1.ipynb\n"
      ],
      "metadata": {
        "id": "n1fXRmG192rR"
      }
    },
    {
      "cell_type": "markdown",
      "source": [
        "The purpose of this assignment is to exercise your basic understanding of intelligent agents and state space search, and to help you apply these concepts.\n",
        "In this assignment, you will be experimenting with different AI search techniques that has been discussed in class. You are provided with a starter code for this. The code consists of several segments, some of which you will need to read and understand to complete the assignment, and some of which you can ignore.\n"
      ],
      "metadata": {
        "id": "BhXaj0hb_CWz"
      }
    },
    {
      "cell_type": "markdown",
      "source": [
        "# Problem Statement 1 (60 marks)"
      ],
      "metadata": {
        "id": "0lKdiao__yxQ"
      }
    },
    {
      "cell_type": "markdown",
      "source": [
        "##Save the world from Cersei Lannister (in a maze game setup).##\n",
        "\n",
        "Story:\n",
        "Melisandre, also known as red woman, was born in the city of Melony (this city lies in the centre of the maze world), and is known to have supernatural powers. She has been known to be lived for 2000 years and used her sorcery to save the world from evil lannisters. It has been recently known that her immortality comes from the pendant she wears and few wise men say that the owner can only live for a few seconds without the magical pendant.\t\n",
        "But on a very dark day, evil Cersei Lannister stole her pendant and hidden herself into an unknown city of labyrinths. Now it’s our time to save the world and find Cersei as soon as possible and return the pendant to Melisandre and return balance to the world. Thanks to AI this could be done in a very fast and efficient manner. \n",
        "Agent Jon Snow (the AI master) is put up to the task of finding the pendant. Thanks to agent Snow we came to know the location of where cercei is hiding and we also have the maze world map. But it will take ages for a person to reach there but with agent snow’s AI mastership this could be done in mere seconds. \n",
        "_______________________________________\n",
        "\n",
        "The maze world is generated from empty grid and then adding walls of random length to random locations.\n",
        "\n",
        "The goal is to find a path from corner to corner. Possible moves are Up, Down, Left or Right. Distance or length is measured with manhattan distance which is the sum of vertical and horizontal lengths.\n",
        "\n",
        "Algorithms to compare to find a path :\n",
        "\n",
        "\n",
        "*   BFS: breadth first search (10 marks)\n",
        "*   DFS: depth first search  (10 marks)\n",
        "*   UCS: Uniform-Cost Search  (10 marks)\n",
        "*   IDS: Iterative Deepning Search (10 marks)\n",
        "*   A* (A-star) heuristic Search (20 marks)\n",
        "\n",
        "\n",
        "### Write code in Algorithm section below###\n",
        "\n",
        "There are two performance metrics:\n",
        "\n",
        "1.   Number of nodes explored\n",
        "2.   Time taken for execution\n",
        "\n",
        "###You need to plot graphs for both the metrics. Also, write your observations by pointing out the key differnces among the algorithms. (Use Graph plots & Observations section below to write your code)###"
      ],
      "metadata": {
        "id": "nmwQLEet_1zK"
      }
    },
    {
      "cell_type": "markdown",
      "source": [
        "# The maze"
      ],
      "metadata": {
        "id": "DfIALoWOV7oV"
      }
    },
    {
      "cell_type": "code",
      "source": [
        "import numpy as np\n",
        "\n",
        "\n",
        "def create_maze(size, n_walls, length_walls=0.3):\n",
        "    maze = np.ones((size, size), dtype=bool)\n",
        "\n",
        "    for i in range(n_walls):\n",
        "        row, col = np.random.randint(0, size - 1, 2)\n",
        "\n",
        "        wall = np.random.poisson(length_walls) * np.random.choice([-1, 1])\n",
        "\n",
        "        if np.random.choice([True, False]):\n",
        "            row = make_range(row, wall, size)\n",
        "        else:\n",
        "            col = make_range(col, wall, size)\n",
        "\n",
        "        maze[row, col] = False\n",
        "\n",
        "    maze[0, 0] = True\n",
        "    maze[size - 1, size - 1] = True\n",
        "    return maze\n",
        "\n",
        "\n",
        "def make_range(start, length, m):\n",
        "    d = np.clip(np.array([start + length, start]), 0, m - 1)\n",
        "    return list(range(d.min(), d.max() + 1))\n",
        "# SIZE = 10\n",
        "# START = (0, 0) \n",
        "# GOAL = (SIZE - 1, SIZE - 1)\n",
        "# OBSTACLE_COUNT = SIZE ** 2 // 30\n",
        "# OBSTACLE_SIZE = 7\n",
        "# maze = create_maze(SIZE, OBSTACLE_COUNT, OBSTACLE_SIZE)\n",
        "# print(maze)"
      ],
      "metadata": {
        "id": "Mhge1BnnVmp1"
      },
      "execution_count": null,
      "outputs": []
    },
    {
      "cell_type": "markdown",
      "source": [
        "# Algorithm section"
      ],
      "metadata": {
        "id": "hBCWnzRlWJI_"
      }
    },
    {
      "cell_type": "code",
      "source": [
        "\"\"\"\n",
        "Write a function for each algorithm in this section\n",
        "\"\"\"\n",
        "import heapq\n",
        "from collections import deque\n",
        "from queue import heappop, heappush, deque\n",
        "import numpy as np\n",
        "from queue import PriorityQueue\n",
        "\n",
        "def dfs(maze,start,goal):\n",
        "    \n",
        "    explored = []\n",
        "    parents = {start: None}\n",
        "    create_q=lambda start: [start]\n",
        "    node_add=lambda queue, nodes: queue.extend(nodes)\n",
        "    queue = create_q(start)\n",
        "    finished = False\n",
        "    while queue:\n",
        "        s = queue.pop()\n",
        "        #print(\"node is \",v)\n",
        "        explored.append(s)\n",
        "        if s == goal:\n",
        "            finished = True\n",
        "            break\n",
        "\n",
        "        children = children_search(s, maze).difference(parents)\n",
        "        \n",
        "        for n in children:\n",
        "            parents[n] = s\n",
        "        node_add(queue, arrange(children))\n",
        "        \n",
        "    if not finished:\n",
        "        path=None\n",
        "    else:\n",
        "        path=path_check(parents, start, goal)\n",
        "    #explored=set(explored)\n",
        "    assert len(explored) == len(set(explored))\n",
        "    return finished, explored, path\n",
        "\n",
        "\n",
        "\n",
        "def bfs(maze,start,goal):\n",
        "    \n",
        "    node_add=lambda queue, p: queue.extendleft(p)\n",
        "    explored = []\n",
        "    parents = {start: None}\n",
        "    create_q=lambda p: deque([p])\n",
        "    queue = create_q(start)\n",
        "\n",
        "    finished = False\n",
        "    while queue:\n",
        "        s = queue.pop()\n",
        "        #print(\"node is \",v)\n",
        "        explored.append(s)\n",
        "        if s == goal:\n",
        "            finished = True\n",
        "            break\n",
        "\n",
        "        children = children_search(s, maze).difference(parents)\n",
        "        node_add(queue, arrange(children))\n",
        "        for n in children:\n",
        "            parents[n] = s\n",
        "\n",
        "        \n",
        "    if not finished:\n",
        "        path=None\n",
        "    else:\n",
        "        path=path_check(parents, start, goal)\n",
        "    explored=set(explored)\n",
        "    return finished, explored, path\n",
        "\n",
        "\n",
        "\n",
        "\n",
        "def ucs(maze,start,goal):\n",
        "    found, fringe, visited, came_from, cost_so_far = False, [(0, start)], set([start]), {start: None}, {start: 0}\n",
        "    while not found and len(fringe):\n",
        "        _, current = heappop(fringe)\n",
        "        if current == goal: found = True; break\n",
        "        for node in children_search(current,maze):\n",
        "            new_cost = cost_so_far[current] + 1\n",
        "            if node not in visited or cost_so_far[node] > new_cost:\n",
        "                visited.add(node); came_from[node] = current; cost_so_far[node] = new_cost\n",
        "                heappush(fringe, (new_cost, node))\n",
        "    if found: \n",
        "        path=[0]*cost_so_far[goal]\n",
        "        return found,came_from, path\n",
        "    else: return found,came_from,None\n",
        "\n",
        "\n",
        "def ids(maze,start,goal):\n",
        "    found=False\n",
        "    prev_iter_visited, depth = [], 0\n",
        "    while True:\n",
        "        found, fringe, visited, came_from = False, deque([(0, start)]), set([start]), {start: None}\n",
        "        limit=-1\n",
        "        while not found and len(fringe):\n",
        "            depth, current = fringe.pop()\n",
        "            if current == goal: found = True; break\n",
        "            if limit == -1 or depth < limit:\n",
        "                for node in children_search(current,maze):\n",
        "                    if node not in visited and maze[node[0]][node[1]]==True:\n",
        "                        visited.add(node); fringe.append((depth + 1, node))\n",
        "                        came_from[node] = current\n",
        "        if found or len(visited)==len(prev_iter_visited): break\n",
        "        else: prev_iter_visited = visited; depth *= 2\n",
        "    if found: \n",
        "            #print(datetime.now()-startT)\n",
        "            traced_path=[0]*depth\n",
        "            return found,visited,traced_path\n",
        "    else: return found,visited,None\n",
        "\n",
        "\n",
        "\n",
        "\n",
        "def astar(maze, start, goal, heuristic):\n",
        "\n",
        "    start_to_current,heap, parents,explored = {start: 0},[(0, start)],{},[]\n",
        "\n",
        "    finished = False\n",
        "    while heap:\n",
        "        k = heapq.heappop(heap)[1]\n",
        "\n",
        "        explored.append(k)\n",
        "        if k == goal:\n",
        "            finished = True\n",
        "            break\n",
        "\n",
        "        children = children_search(k, maze)\n",
        "        for p in arrange(children):\n",
        "            new_d = start_to_current[k] + 1\n",
        "            if new_d < start_to_current.get(p, float(\"inf\")):\n",
        "                start_to_current[p] = new_d\n",
        "                heapq.heappush(heap, (new_d + heuristic(p),p))\n",
        "                parents[p] = k\n",
        "\n",
        "    if not finished:\n",
        "        path=None\n",
        "    else:\n",
        "        path=path_check(parents, start, goal)\n",
        "\n",
        "    return finished, explored, path\n",
        "\n",
        "def children_search(node, maze):\n",
        "    children = set()\n",
        "    for i, j in [(-1, 0), (1, 0), (0, -1), (0, 1)]:\n",
        "        a = node[0] + i\n",
        "        b = node[1] + j\n",
        "        if a < 0 or b < 0:\n",
        "            continue\n",
        "\n",
        "        try:\n",
        "            d = maze[a][b]\n",
        "            if d:\n",
        "                children.add((a, b))\n",
        "        except IndexError:\n",
        "            pass\n",
        "\n",
        "    return children\n",
        "\n",
        "\n",
        "def arrange(g):\n",
        "    g = list(g)\n",
        "    np.random.shuffle(g)\n",
        "    return g\n",
        "\n",
        "\n",
        "def path_check(parents, start, goal):\n",
        "    path = []\n",
        "    a = goal\n",
        "    while True:\n",
        "        path.append(a)\n",
        "        a = parents[a]\n",
        "        if a == start:\n",
        "            break\n",
        "\n",
        "    return list(reversed(path))\n",
        "\n",
        "def manhattan_heuristic(size):\n",
        "    def z(x):\n",
        "        return (size - 1 - x[0]) + (size - 1 - x[1])\n",
        "\n",
        "    return z"
      ],
      "metadata": {
        "id": "zjJLSiY3V1u4"
      },
      "execution_count": null,
      "outputs": []
    },
    {
      "cell_type": "markdown",
      "source": [
        "# Execution section"
      ],
      "metadata": {
        "id": "ebeRsG8jWMg8"
      }
    },
    {
      "cell_type": "code",
      "execution_count": null,
      "metadata": {
        "id": "itQRrX6yEHvG",
        "colab": {
          "base_uri": "https://localhost:8080/"
        },
        "outputId": "0a22a847-8bfe-4b22-c137-2eb5210ba411"
      },
      "outputs": [
        {
          "output_type": "stream",
          "name": "stderr",
          "text": [
            "100%|██████████| 1000/1000 [02:24<00:00,  6.94it/s]"
          ]
        },
        {
          "output_type": "stream",
          "name": "stdout",
          "text": [
            "| finished   | algo   |   seconds |   n_explored |   length_path |   count |\n",
            "|:-----------|:-------|----------:|-------------:|--------------:|--------:|\n",
            "| False      | A-star | 0.0184891 |      2397.05 |       nan     |     429 |\n",
            "| False      | BFS    | 0.01221   |      2397.05 |       nan     |     429 |\n",
            "| False      | DFS    | 0.0123709 |      2397.05 |       nan     |     429 |\n",
            "| False      | IDS    | 0.0274333 |      2397.05 |       nan     |     429 |\n",
            "| False      | UCS    | 0.0135498 |      2397.05 |       nan     |     429 |\n",
            "| True       | A-star | 0.0234397 |      2987.72 |       211.52  |     571 |\n",
            "| True       | BFS    | 0.0360723 |      7104.2  |       211.52  |     571 |\n",
            "| True       | DFS    | 0.0199516 |      3811.35 |       822.445 |     571 |\n",
            "| True       | IDS    | 0.0214225 |      4117.89 |       786.312 |     571 |\n",
            "| True       | UCS    | 0.0400649 |      7122.65 |       211.52  |     571 |\n"
          ]
        },
        {
          "output_type": "stream",
          "name": "stderr",
          "text": [
            "\n",
            "/usr/local/lib/python3.7/dist-packages/ipykernel_launcher.py:75: FutureWarning: Indexing with multiple keys (implicitly converted to a tuple of keys) will be deprecated, use a list instead.\n"
          ]
        }
      ],
      "source": [
        "from collections import namedtuple #Like the dictionary type objects, it contains keys and that are mapped \n",
        "#to some values. In this case we can access the elements using keys and indexes.\n",
        "\n",
        "from functools import partial # You can create partial functions in python by using the partial function from \n",
        "#the functools library. Partial functions allow one to derive a function with x parameters to a function \n",
        "#with fewer parameters and fixed values set for the more limited function.\n",
        "\n",
        "from timeit import default_timer as timer\n",
        "import matplotlib.animation as ani\n",
        "import matplotlib.pyplot as plt\n",
        "import numpy as np\n",
        "import pandas as pd\n",
        "\n",
        "import tabulate #Tabulate is an open-source python package/module which is used to print \n",
        "#tabular data in nicely formatted tables\n",
        "\n",
        "import tqdm\n",
        "import os\n",
        "\n",
        "np.random.seed(0)\n",
        "\n",
        "SIZE = 100\n",
        "START = (0, 0) \n",
        "GOAL = (SIZE - 1, SIZE - 1)\n",
        "OBSTACLE_COUNT = SIZE ** 2 // 30\n",
        "OBSTACLE_SIZE = 7\n",
        "\n",
        "ALGOS = [\n",
        "    (\"DFS\", partial(dfs, start=START, goal=GOAL)),\n",
        "    (\"BFS\", partial(bfs, start=START, goal=GOAL)),\n",
        "    (\"UCS\", partial(ucs, start=START, goal=GOAL)),\n",
        "    (\"IDS\", partial(ids, start=START, goal=GOAL)),\n",
        "    (\n",
        "        \"A-star\",\n",
        "        partial(astar, start=START, goal=GOAL, heuristic=manhattan_heuristic(SIZE)),\n",
        "    ),\n",
        "]\n",
        "\n",
        "Result = namedtuple(\n",
        "    \"Result\", [\"round\", \"finished\", \"n_explored\", \"length_path\", \"seconds\", \"algo\"]\n",
        ")\n",
        "\n",
        "\n",
        "def simulate(n, max_good_mazes=float(\"inf\")):\n",
        "    results = []\n",
        "    good_mazes = []\n",
        "    for i in tqdm.tqdm(range(n), mininterval=1):\n",
        "        maze = create_maze(SIZE, OBSTACLE_COUNT, OBSTACLE_SIZE)\n",
        "        for algo_name, algo in ALGOS:\n",
        "            time_start = timer()\n",
        "            finished, explored_nodes, path = algo(maze)\n",
        "            time_end = timer()\n",
        "            r = Result(\n",
        "                round=i,\n",
        "                finished=finished,\n",
        "                n_explored=len(explored_nodes),\n",
        "                length_path=None if not finished else len(path),\n",
        "                seconds=time_end - time_start,\n",
        "                algo=algo_name,\n",
        "            )\n",
        "            results.append(r)\n",
        "            if finished and algo_name == ALGOS[0][0]:\n",
        "                good_mazes.append(maze)\n",
        "                if len(good_mazes) >= max_good_mazes:\n",
        "                    break\n",
        "\n",
        "    results_df = pd.DataFrame(results)\n",
        "    return results_df, good_mazes\n",
        "\n",
        "result_df, good_mazes = simulate(1000)\n",
        "\n",
        "\"\"\" for reference to print the results in a table format\"\"\"\n",
        "\n",
        "result_agg = result_df.groupby([\"finished\", \"algo\"])[\n",
        "    \"seconds\", \"n_explored\", \"length_path\"\n",
        "].mean()\n",
        "\n",
        "result_agg[\"count\"] = result_df.groupby([\"finished\", \"algo\"]).size()\n",
        "result_agg = result_agg.reset_index()\n",
        "\n",
        "print(tabulate.tabulate(result_agg.values, result_agg.columns, tablefmt=\"pipe\"))\n",
        "\n",
        "\n"
      ]
    },
    {
      "cell_type": "markdown",
      "source": [
        "# Graph plots & Observations\n",
        "\n",
        "---\n",
        "\n",
        "Plot graphs related to the various parameters of algorithms for the various test cases given in the next section. \n",
        "\n",
        "1.   Plot one graph, which compares the number of nodes explored by every algorithm, while solving the problem.\n",
        "\n",
        "2.  Plot another graph, comparing the total time taken by each algorithm to complete the execution. \n",
        "\n",
        "## Libraries for reference\n",
        "https://seaborn.pydata.org/\n",
        "\n",
        "https://matplotlib.org/stable/api/_as_gen/matplotlib.pyplot.html\n",
        "\n",
        "https://matplotlib.org/stable/tutorials/introductory/pyplot.html\n",
        "\n",
        "\n",
        " \n"
      ],
      "metadata": {
        "id": "YnkNtQFDc410"
      }
    },
    {
      "cell_type": "code",
      "source": [
        "\"\"\" graph plot code and observations\"\"\"\n",
        "import matplotlib.pyplot as plt\n",
        "import seaborn as sns\n",
        "result_df2=result_df.drop(['round','finished','length_path'],axis=1)\n",
        "algo_list=result_df2.groupby([\"algo\"])[\"algo\"]\n",
        "time_taken=result_df2.groupby([\"algo\"])[\"seconds\"].sum()\n",
        "#print(algo_list,time_taken,node_explored)\n",
        "#print(result_df2)\n",
        "sns.set(rc = {'figure.figsize':(6,4)})\n",
        "#ax = sns.barplot(x=algo_list,y=time_taken)\n",
        "ax = sns.barplot(x='algo',y='seconds',data=result_df2,estimator=sum)\n",
        "plt.title(\"Algorithm VS Total Time\")\n",
        "plt.show()\n",
        "print(\"================================================================================\")\n",
        "print(\"================================================================================\")\n",
        "ax = sns.barplot(x='algo',y='n_explored',data=result_df2,estimator=sum)\n",
        "plt.title(\"Algorithm VS Total Nodes Explored\")\n",
        "plt.show()"
      ],
      "metadata": {
        "id": "gmlisxN_dSp9",
        "colab": {
          "base_uri": "https://localhost:8080/",
          "height": 620
        },
        "outputId": "f0db9a05-1334-4131-85b4-84f980bcae7f"
      },
      "execution_count": null,
      "outputs": [
        {
          "output_type": "display_data",
          "data": {
            "image/png": "[encoded data removed]",
            "text/plain": [
              "<Figure size 432x288 with 1 Axes>"
            ]
          },
          "metadata": {}
        },
        {
          "output_type": "stream",
          "name": "stdout",
          "text": [
            "================================================================================\n",
            "================================================================================\n"
          ]
        },
        {
          "output_type": "display_data",
          "data": {
            "image/png": "[encoded data removed]",
            "text/plain": [
              "<Figure size 432x288 with 1 Axes>"
            ]
          },
          "metadata": {}
        }
      ]
    },
    {
      "cell_type": "markdown",
      "source": [
        "### Test Case 1:\n"
      ],
      "metadata": {
        "id": "EaSkBfP4LJbh"
      }
    },
    {
      "cell_type": "code",
      "source": [
        "START = (1, 1) \n",
        "GOAL = (SIZE - 1, SIZE - 1)\n",
        "result_df, good_mazes = simulate(1000)\n",
        "result_df2=result_df.drop(['round','finished','length_path'],axis=1)\n",
        "sns.set(rc = {'figure.figsize':(6,4)})\n",
        "ax = sns.barplot(x='algo',y='seconds',data=result_df2,estimator=sum)\n",
        "plt.title(\"Algorithm VS Total Time\")\n",
        "plt.show()\n",
        "print(\"================================================================================\")\n",
        "print(\"================================================================================\")\n",
        "ax = sns.barplot(x='algo',y='n_explored',data=result_df2,estimator=sum)\n",
        "plt.title(\"Algorithm VS Total Nodes Explored\")\n",
        "plt.show()"
      ],
      "metadata": {
        "id": "_ZlgQFqvLHMJ",
        "colab": {
          "base_uri": "https://localhost:8080/",
          "height": 637
        },
        "outputId": "10a25793-93ff-4b97-9d25-5e0bc33bfeb5"
      },
      "execution_count": null,
      "outputs": [
        {
          "output_type": "stream",
          "name": "stderr",
          "text": [
            "100%|██████████| 1000/1000 [02:25<00:00,  6.86it/s]\n"
          ]
        },
        {
          "output_type": "display_data",
          "data": {
            "image/png": "[encoded data removed]",
            "text/plain": [
              "<Figure size 432x288 with 1 Axes>"
            ]
          },
          "metadata": {}
        },
        {
          "output_type": "stream",
          "name": "stdout",
          "text": [
            "================================================================================\n",
            "================================================================================\n"
          ]
        },
        {
          "output_type": "display_data",
          "data": {
            "image/png": "[encoded data removed]",
            "text/plain": [
              "<Figure size 432x288 with 1 Axes>"
            ]
          },
          "metadata": {}
        }
      ]
    },
    {
      "cell_type": "markdown",
      "source": [
        "### Test Case 2"
      ],
      "metadata": {
        "id": "mpkj2e58TUaN"
      }
    },
    {
      "cell_type": "code",
      "source": [
        "START = (2, 0) \n",
        "GOAL = (SIZE - 1, SIZE - 1)\n",
        "result_df, good_mazes = simulate(1000)\n",
        "result_df2=result_df.drop(['round','finished','length_path'],axis=1)\n",
        "sns.set(rc = {'figure.figsize':(6,4)})\n",
        "ax = sns.barplot(x='algo',y='seconds',data=result_df2,estimator=sum)\n",
        "plt.title(\"Algorithm VS Total Time\")\n",
        "plt.show()\n",
        "print(\"================================================================================\")\n",
        "print(\"================================================================================\")\n",
        "ax = sns.barplot(x='algo',y='n_explored',data=result_df2,estimator=sum)\n",
        "plt.title(\"Algorithm VS Total Nodes Explored\")\n",
        "plt.show()"
      ],
      "metadata": {
        "id": "my1GnnpjTUxl",
        "colab": {
          "base_uri": "https://localhost:8080/",
          "height": 637
        },
        "outputId": "3500b112-ab94-4e2a-bf97-a1df19e15b50"
      },
      "execution_count": null,
      "outputs": [
        {
          "output_type": "stream",
          "name": "stderr",
          "text": [
            "100%|██████████| 1000/1000 [02:25<00:00,  6.88it/s]\n"
          ]
        },
        {
          "output_type": "display_data",
          "data": {
            "image/png": "[encoded data removed]",
            "text/plain": [
              "<Figure size 432x288 with 1 Axes>"
            ]
          },
          "metadata": {}
        },
        {
          "output_type": "stream",
          "name": "stdout",
          "text": [
            "================================================================================\n",
            "================================================================================\n"
          ]
        },
        {
          "output_type": "display_data",
          "data": {
            "image/png": "[encoded data removed]",
            "text/plain": [
              "<Figure size 432x288 with 1 Axes>"
            ]
          },
          "metadata": {}
        }
      ]
    },
    {
      "cell_type": "markdown",
      "source": [
        "### Test Case 3"
      ],
      "metadata": {
        "id": "tZyD5cm7TUUF"
      }
    },
    {
      "cell_type": "code",
      "source": [
        "START = (1, 0) \n",
        "GOAL = (SIZE - 2, SIZE - 1)\n",
        "result_df, good_mazes = simulate(1000)\n",
        "result_df2=result_df.drop(['round','finished','length_path'],axis=1)\n",
        "sns.set(rc = {'figure.figsize':(6,4)})\n",
        "ax = sns.barplot(x='algo',y='seconds',data=result_df2,estimator=sum)\n",
        "plt.title(\"Algorithm VS Total Time\")\n",
        "plt.show()\n",
        "print(\"================================================================================\")\n",
        "print(\"================================================================================\")\n",
        "ax = sns.barplot(x='algo',y='n_explored',data=result_df2,estimator=sum)\n",
        "plt.title(\"Algorithm VS Total Nodes Explored\")\n",
        "plt.show()"
      ],
      "metadata": {
        "id": "ztOHMB3FTUtF",
        "colab": {
          "base_uri": "https://localhost:8080/",
          "height": 637
        },
        "outputId": "006c2c24-dec8-489e-e4cc-b5760b80d1bd"
      },
      "execution_count": null,
      "outputs": [
        {
          "output_type": "stream",
          "name": "stderr",
          "text": [
            "100%|██████████| 1000/1000 [02:23<00:00,  6.96it/s]\n"
          ]
        },
        {
          "output_type": "display_data",
          "data": {
            "image/png": "[encoded data removed]",
            "text/plain": [
              "<Figure size 432x288 with 1 Axes>"
            ]
          },
          "metadata": {}
        },
        {
          "output_type": "stream",
          "name": "stdout",
          "text": [
            "================================================================================\n",
            "================================================================================\n"
          ]
        },
        {
          "output_type": "display_data",
          "data": {
            "image/png": "[encoded data removed]",
            "text/plain": [
              "<Figure size 432x288 with 1 Axes>"
            ]
          },
          "metadata": {}
        }
      ]
    },
    {
      "cell_type": "markdown",
      "source": [
        "### Test Case 4"
      ],
      "metadata": {
        "id": "GP_LgEreTUOs"
      }
    },
    {
      "cell_type": "code",
      "source": [
        "START = (3, 0) \n",
        "GOAL = (SIZE - 1, SIZE - 2)\n",
        "result_df, good_mazes = simulate(1000)\n",
        "result_df2=result_df.drop(['round','finished','length_path'],axis=1)\n",
        "sns.set(rc = {'figure.figsize':(6,4)})\n",
        "ax = sns.barplot(x='algo',y='seconds',data=result_df2,estimator=sum)\n",
        "plt.title(\"Algorithm VS Total Time\")\n",
        "plt.show()\n",
        "print(\"================================================================================\")\n",
        "print(\"================================================================================\")\n",
        "ax = sns.barplot(x='algo',y='n_explored',data=result_df2,estimator=sum)\n",
        "plt.title(\"Algorithm VS Total Nodes Explored\")\n",
        "plt.show()"
      ],
      "metadata": {
        "id": "8GK_f9ilTUoN",
        "colab": {
          "base_uri": "https://localhost:8080/",
          "height": 637
        },
        "outputId": "1c4e77d4-0401-418a-9c04-8ac87d16cf35"
      },
      "execution_count": null,
      "outputs": [
        {
          "output_type": "stream",
          "name": "stderr",
          "text": [
            "100%|██████████| 1000/1000 [02:25<00:00,  6.89it/s]\n"
          ]
        },
        {
          "output_type": "display_data",
          "data": {
            "image/png": "[encoded data removed]",
            "text/plain": [
              "<Figure size 432x288 with 1 Axes>"
            ]
          },
          "metadata": {}
        },
        {
          "output_type": "stream",
          "name": "stdout",
          "text": [
            "================================================================================\n",
            "================================================================================\n"
          ]
        },
        {
          "output_type": "display_data",
          "data": {
            "image/png": "[encoded data removed]",
            "text/plain": [
              "<Figure size 432x288 with 1 Axes>"
            ]
          },
          "metadata": {}
        }
      ]
    },
    {
      "cell_type": "markdown",
      "source": [
        "### Test Case 5"
      ],
      "metadata": {
        "id": "TaBC8wtRTUF8"
      }
    },
    {
      "cell_type": "code",
      "source": [
        "START = (1, 3) \n",
        "GOAL = (SIZE - 1, SIZE - 3)\n",
        "result_df, good_mazes = simulate(1000)\n",
        "result_df2=result_df.drop(['round','finished','length_path'],axis=1)\n",
        "sns.set(rc = {'figure.figsize':(6,4)})\n",
        "ax = sns.barplot(x='algo',y='seconds',data=result_df2,estimator=sum)\n",
        "plt.title(\"Algorithm VS Total Time\")\n",
        "plt.show()\n",
        "print(\"================================================================================\")\n",
        "print(\"================================================================================\")\n",
        "ax = sns.barplot(x='algo',y='n_explored',data=result_df2,estimator=sum)\n",
        "plt.title(\"Algorithm VS Total Nodes Explored\")\n",
        "plt.show()"
      ],
      "metadata": {
        "id": "fer1KlM_TWkW",
        "colab": {
          "base_uri": "https://localhost:8080/",
          "height": 637
        },
        "outputId": "b25ec2f2-1654-485a-d4ef-84550ebb33b4"
      },
      "execution_count": null,
      "outputs": [
        {
          "output_type": "stream",
          "name": "stderr",
          "text": [
            "100%|██████████| 1000/1000 [02:23<00:00,  6.97it/s]\n"
          ]
        },
        {
          "output_type": "display_data",
          "data": {
            "image/png": "[encoded data removed]",
            "text/plain": [
              "<Figure size 432x288 with 1 Axes>"
            ]
          },
          "metadata": {}
        },
        {
          "output_type": "stream",
          "name": "stdout",
          "text": [
            "================================================================================\n",
            "================================================================================\n"
          ]
        },
        {
          "output_type": "display_data",
          "data": {
            "image/png": "[encoded data removed]",
            "text/plain": [
              "<Figure size 432x288 with 1 Axes>"
            ]
          },
          "metadata": {}
        }
      ]
    },
    {
      "cell_type": "markdown",
      "source": [
        "From above observation what we can see that A* is comming out at top among all other search algorithm used here when we consider count of explored nodes means less space complexity but for less time complexity DFS runs faster than most of the algorithm. Although DFS in an uninformed search algorithm where as A* is a informed search algorithm. DFS algorithm is complete it means it gives us surity about finding a path but for A* even if path is there it sometimes cannot be able to find it as it works purely based on knowledge. It boils down to the decision of wheather you want better space or better time. It is evident that a bad heuristics can causes A* to perform bad. But unidirectional search with a consistent heuristic, A* does the fewest number of necessary expansions required to prove that the solution is optimal."
      ],
      "metadata": {
        "id": "BjVPuDC-lk9T"
      }
    },
    {
      "cell_type": "markdown",
      "source": [
        "# Problem Statement 2 (40 marks)\n",
        "## So many Queens, how to manage?\n",
        "\n",
        "During a gladiatorial contests at the roman empire, a fine king invited all his queens to witness the valour of the gladiators. However, the queens were not in likings of one-another and must not see eye-to-eye. Your job as the \"Minister of Strategies\" in King's office is to create a sitting arrangement for all queens, while keeping in mind that no two queens are in the \"LINE OF SIGHT\" of one another i.e. the queens must be avoided to be in the same row or column or diagonally. \n",
        "\n",
        " The \"minister of Strategies\" had recently enrolled in the Class of Artificial Intellignece CS 512 and decided to use A* algorithm to solve the problem.\n",
        "\n",
        "\n",
        "Heuristic to be used for this problem is \" Number of attacked queens\", where if any new queen is placed in \"LINE of ATTACK\" of other queen, the Heuristic is incremented by 1, else it is unchanged. \n",
        "\n",
        "**Can you propose a better heuristic for this problem? If yes, then compare the performance of A* with your proposed and the given heuristic. [15 marks]**\n",
        "\n",
        "The G(n) function can be defined as the number of queens which are correctly placed at the given time. \n",
        "For eg:\n",
        "if the state is  \n",
        "0 0 1 0\n",
        "\n",
        "1 0 0 0\n",
        "\n",
        "1 0 0 0\n",
        "\n",
        "0 0 0 1 \n",
        "\n",
        "then only one queen is correctly placed while, three queens are in ATTACK mode.\n",
        "#### Reference image\n",
        "![8queen.png](data:image/png;base64,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)"
      ],
      "metadata": {
        "id": "Ecuj940rVmvA"
      }
    },
    {
      "cell_type": "markdown",
      "source": [
        "\n",
        "To solve this problem correctly. define the Heuristic function correctly, Apply A* agorithm to it and print the following information for each trial. Number of nodes explored, Optimal path cost, Total time taken for execution. [25 marks]"
      ],
      "metadata": {
        "id": "s827GCL0suVP"
      }
    },
    {
      "cell_type": "markdown",
      "source": [
        "Consider in total, 5 trials,\n",
        "\n",
        " \n",
        "\n",
        "---\n",
        "\n",
        "\n",
        "\n",
        "1.   you have 4 queens in a 4x4 seating space.\n",
        "2.   you have 5 queens in a 5x5 seating space.\n",
        "3.   you have 6 queens in a 6x6 seating space.\n",
        "4.  you have 7 queens in a 7x7 seating space.\n",
        "5.  you have 8 queens in a 8x8 seating space.\n",
        "5.  you have 9 queens in a 9x9 seating space.\n",
        "5.  you have 10 queens in a 10x10 seating space.\n",
        "\n",
        "----\n"
      ],
      "metadata": {
        "id": "3Dgf3EzdtZAl"
      }
    },
    {
      "cell_type": "markdown",
      "source": [
        "In the end, plot a graph with all five trials in X-axis and following metrices in Y axis,\n",
        " * The number of nodes explored \n",
        " * Optimnal path cost \n",
        " * Total time taken by A* algorithm "
      ],
      "metadata": {
        "id": "83JzXB1zt8cb"
      }
    },
    {
      "cell_type": "markdown",
      "source": [
        "#### Trial 1: 4 queens"
      ],
      "metadata": {
        "id": "To1CKMAdvExX"
      }
    },
    {
      "cell_type": "code",
      "source": [
        "# Code to generate a 2D grid world.\n",
        "# 0 represents empty position and 1 will denote that a queen currently occupy the given position. \n",
        "size=4\n",
        "for i in range(size):\n",
        "  for j in range(size):\n",
        "    arr[i][j]= 0\n",
        "\n"
      ],
      "metadata": {
        "id": "T3xcLUcYtTz0"
      },
      "execution_count": null,
      "outputs": []
    },
    {
      "cell_type": "markdown",
      "source": [
        "#### Trial 2: 5 queens"
      ],
      "metadata": {
        "id": "n5oHI-SrvRhj"
      }
    },
    {
      "cell_type": "code",
      "source": [
        "# Code to generate a 2D grid world.\n",
        "# 0 represents empty position and 1 will denote that a queen currently occupy the given position. \n",
        "size=5\n",
        "for i in range(size):\n",
        "  for j in range(size):\n",
        "    arr[i][j]= 0\n"
      ],
      "metadata": {
        "id": "LOSYPryLvN9B"
      },
      "execution_count": null,
      "outputs": []
    },
    {
      "cell_type": "markdown",
      "source": [
        "#### Trial 3: 6 queens"
      ],
      "metadata": {
        "id": "-lAAy4-7vNva"
      }
    },
    {
      "cell_type": "code",
      "source": [
        "# Code to generate a 2D grid world.\n",
        "# 0 represents empty position and 1 will denote that a queen currently occupy the given position. \n",
        "size=6\n",
        "for i in range(size):\n",
        "  for j in range(size):\n",
        "    arr[i][j]= 0\n"
      ],
      "metadata": {
        "id": "3ycNWOfWvNii"
      },
      "execution_count": null,
      "outputs": []
    },
    {
      "cell_type": "markdown",
      "source": [
        "#### Trial 4: 7 queens"
      ],
      "metadata": {
        "id": "l04jfgLyvNW0"
      }
    },
    {
      "cell_type": "code",
      "source": [
        "# Code to generate a 2D grid world.\n",
        "# 0 represents empty position and 1 will denote that a queen currently occupy the given position. \n",
        "size=7\n",
        "for i in range(size):\n",
        "  for j in range(size):\n",
        "    arr[i][j]= 0\n"
      ],
      "metadata": {
        "id": "9B2LK3SGvM_g"
      },
      "execution_count": null,
      "outputs": []
    },
    {
      "cell_type": "markdown",
      "source": [
        "#### Trial 5: 8 queens"
      ],
      "metadata": {
        "id": "QvRBneJMvM0G"
      }
    },
    {
      "cell_type": "code",
      "source": [
        "# Code to generate a 2D grid world.\n",
        "# 0 represents empty position and 1 will denote that a queen currently occupy the given position. \n",
        "size=8\n",
        "for i in range(size):\n",
        "  for j in range(size):\n",
        "    arr[i][j]= 0\n"
      ],
      "metadata": {
        "id": "RbO63qGFvMnQ"
      },
      "execution_count": null,
      "outputs": []
    },
    {
      "cell_type": "markdown",
      "source": [
        "#### Trial 6: 9 queens"
      ],
      "metadata": {
        "id": "YuEmOyNXKaY0"
      }
    },
    {
      "cell_type": "code",
      "source": [
        "# Code to generate a 2D grid world\n",
        "# 0 represents empty position and 1 will denote that a queen currently occupy the given position. \n",
        "size= 9\n",
        "for i in range(size):\n",
        "  for j in range(size):\n",
        "    arr[i][j]= 0"
      ],
      "metadata": {
        "id": "IujVrjEzKiew"
      },
      "execution_count": null,
      "outputs": []
    },
    {
      "cell_type": "markdown",
      "source": [
        "#### Trial 7: 10 queens"
      ],
      "metadata": {
        "id": "lpMp5CDVKdbK"
      }
    },
    {
      "cell_type": "code",
      "source": [
        "# Code to generate a 2D grid world.\n",
        "# 0 represents empty position and 1 will denote that a queen currently occupy the given position. \n",
        "size= 10\n",
        "for i in range(size):\n",
        "  for j in range(size):\n",
        "    arr[i][j]= 0"
      ],
      "metadata": {
        "id": "O8Rbzve5KnkQ"
      },
      "execution_count": null,
      "outputs": []
    },
    {
      "cell_type": "markdown",
      "source": [
        "Define heuristics"
      ],
      "metadata": {
        "id": "ijHLUVxavMcZ"
      }
    },
    {
      "cell_type": "code",
      "source": [
        "from copy import deepcopy\n",
        "import random\n",
        "from timeit import default_timer as timer\n",
        "from queue import heappop, heappush, deque\n",
        "def queen_heuristic(state,goal):\n",
        "  #### Your code Here #####\n",
        "    cost=0\n",
        "    for i in range(len(state)):\n",
        "        for j in range(len(state)):\n",
        "            if i!=j and attacked(state[i],state[j]):\n",
        "                cost+=1\n",
        "                break\n",
        "    return cost\n",
        "def attacked(q1,q2):\n",
        "    if (q1[0] == q2[0]) or (q1[1] == q2[1]) or (abs(q1[0] - q2[0]) == abs(q1[1] - q2[1])):\n",
        "        return True\n",
        "    else:\n",
        "        return False\n",
        "def get_children(side_length,queen_positions):\n",
        "    children = []\n",
        "    parent_queen_positions = list(queen_positions)\n",
        "    for queen_index, queen in enumerate(parent_queen_positions):\n",
        "        new_positions = [(queen[0], row) for row in range(side_length) if row != queen[1]]\n",
        "        #print(new_positions)\n",
        "        for new_position in new_positions:\n",
        "            queen_positions = deepcopy(parent_queen_positions)\n",
        "            queen_positions[queen_index] = new_position\n",
        "            children.append(queen_positions)\n",
        "    return children"
      ],
      "metadata": {
        "id": "14iZ0N2-sd3M"
      },
      "execution_count": null,
      "outputs": []
    },
    {
      "cell_type": "markdown",
      "source": [
        "Your solution using A*"
      ],
      "metadata": {
        "id": "_G7Q1rK8G_sk"
      }
    },
    {
      "cell_type": "code",
      "source": [
        "def astar_sol(state):\n",
        "    step=0\n",
        "    goal=[]\n",
        "    visited=[]\n",
        "    curr_cost=queen_heuristic(state,goal)\n",
        "    curr_state=state\n",
        "    heap=[(curr_cost,curr_state)]\n",
        "    while len(heap):\n",
        "        curr_cost,curr_state=heappop(heap)\n",
        "        if curr_cost==0:\n",
        "            # print(\"goal reached: \",curr_state)\n",
        "            # for i in range(len(state)):\n",
        "            #     for j in range(len(state)):\n",
        "            #         if (i,j) in curr_state:\n",
        "            #             print('Q',end=\" \")\n",
        "            #         else:\n",
        "            #             print(\"_\",end=\" \")\n",
        "            #     print(\"\\n\")\n",
        "            return len(visited),step\n",
        "            break\n",
        "        new_states=get_children(len(state),curr_state)\n",
        "        for i in new_states:\n",
        "            if i not in visited:\n",
        "                new_cost=queen_heuristic(i,goal)\n",
        "                if new_cost<curr_cost:\n",
        "                    #print(i,curr_cost,new_cost)\n",
        "                    heappush(heap, (new_cost, i))\n",
        "                    step+=1\n",
        "                visited.append(i)\n",
        "    return len(visited),step\n",
        "def random_queen_position(side_length,queen_num):\n",
        "    open_columns = list(range(side_length))\n",
        "    queen_positions=[]\n",
        "    while(len(open_columns)>0):\n",
        "        random.seed()\n",
        "        p=random.randrange(len(open_columns))\n",
        "        p=open_columns.pop(p)\n",
        "        q=random.randrange(side_length)\n",
        "        queen_positions.append((p,q))\n",
        "    return queen_positions"
      ],
      "metadata": {
        "id": "qZGBv-FvHETp"
      },
      "execution_count": null,
      "outputs": []
    },
    {
      "cell_type": "code",
      "source": [
        "explored,cost,total_time=[],[],[]\n",
        "# Test case 1:\n",
        "queen_positions1=random_queen_position(4,4)\n",
        "time_start = timer()\n",
        "s,t=astar_sol(queen_positions1)\n",
        "time_end=timer()\n",
        "total_time.append(time_end-time_start)\n",
        "explored.append(s)\n",
        "cost.append(t)\n",
        "print(\"Time taken: \",time_end-time_start,\", Optimal path cost: \",t,\", Explored nodes: \",s)"
      ],
      "metadata": {
        "id": "IkyB9JrH1Okz",
        "colab": {
          "base_uri": "https://localhost:8080/"
        },
        "outputId": "a9da9e81-ddd8-420c-e85d-8924ebda0227"
      },
      "execution_count": null,
      "outputs": [
        {
          "output_type": "stream",
          "name": "stdout",
          "text": [
            "Time taken:  0.0006793550001020776 , Optimal path cost:  5 , Explored nodes:  12\n"
          ]
        }
      ]
    },
    {
      "cell_type": "code",
      "source": [
        "# Test case 2:\n",
        "queen_positions2=random_queen_position(5,5)\n",
        "time_start = timer()\n",
        "s,t=astar_sol(queen_positions2)\n",
        "time_end=timer()\n",
        "total_time.append(time_end-time_start)\n",
        "explored.append(s)\n",
        "cost.append(t)\n",
        "print(\"Time taken: \",time_end-time_start,\", Optimal path cost: \",t,\", Explored nodes: \",s)"
      ],
      "metadata": {
        "id": "mCwBzLDw118z",
        "colab": {
          "base_uri": "https://localhost:8080/"
        },
        "outputId": "83e9f199-7490-4ee6-b8d6-25df60d6c7cb"
      },
      "execution_count": null,
      "outputs": [
        {
          "output_type": "stream",
          "name": "stdout",
          "text": [
            "Time taken:  0.0034119459996873047 , Optimal path cost:  12 , Explored nodes:  37\n"
          ]
        }
      ]
    },
    {
      "cell_type": "code",
      "source": [
        "# Test case 3:\n",
        "queen_positions3=random_queen_position(6,6)\n",
        "time_start = timer()\n",
        "s,t=astar_sol(queen_positions3)\n",
        "time_end=timer()\n",
        "total_time.append(time_end-time_start)\n",
        "explored.append(s)\n",
        "cost.append(t)\n",
        "print(\"Time taken: \",time_end-time_start,\", Optimal path cost: \",t,\", Explored nodes: \",s)"
      ],
      "metadata": {
        "id": "7BxpCgZo2ECW",
        "colab": {
          "base_uri": "https://localhost:8080/"
        },
        "outputId": "3d472dc4-4a63-4a07-f425-1cb6659ca086"
      },
      "execution_count": null,
      "outputs": [
        {
          "output_type": "stream",
          "name": "stdout",
          "text": [
            "Time taken:  0.06224451599882741 , Optimal path cost:  36 , Explored nodes:  806\n"
          ]
        }
      ]
    },
    {
      "cell_type": "code",
      "source": [
        "# Test case 4:\n",
        "queen_positions4=random_queen_position(7,7)\n",
        "time_start = timer()\n",
        "s,t=astar_sol(queen_positions4)\n",
        "time_end=timer()\n",
        "total_time.append(time_end-time_start)\n",
        "explored.append(s)\n",
        "cost.append(t)\n",
        "print(\"Time taken: \",time_end-time_start,\", Optimal path cost: \",t,\", Explored nodes: \",s)"
      ],
      "metadata": {
        "id": "T_kSA91X2Erx",
        "colab": {
          "base_uri": "https://localhost:8080/"
        },
        "outputId": "4086f546-1ddd-4d2f-cd7f-7edff845f41f"
      },
      "execution_count": null,
      "outputs": [
        {
          "output_type": "stream",
          "name": "stdout",
          "text": [
            "Time taken:  0.04436256499866431 , Optimal path cost:  34 , Explored nodes:  584\n"
          ]
        }
      ]
    },
    {
      "cell_type": "code",
      "source": [
        "# Test case 5:\n",
        "queen_positions5=random_queen_position(8,8)\n",
        "time_start = timer()\n",
        "s,t=astar_sol(queen_positions5)\n",
        "time_end=timer()\n",
        "total_time.append(time_end-time_start)\n",
        "explored.append(s)\n",
        "cost.append(t)\n",
        "print(\"Time taken: \",time_end-time_start,\", Optimal path cost: \",t,\", Explored nodes: \",s)"
      ],
      "metadata": {
        "id": "lurq2N0N2FXM",
        "colab": {
          "base_uri": "https://localhost:8080/"
        },
        "outputId": "450d6800-585c-41a7-edab-5562f69ec192"
      },
      "execution_count": null,
      "outputs": [
        {
          "output_type": "stream",
          "name": "stdout",
          "text": [
            "Time taken:  0.020320658000855474 , Optimal path cost:  19 , Explored nodes:  249\n"
          ]
        }
      ]
    },
    {
      "cell_type": "code",
      "source": [
        "# Test case 6:\n",
        "queen_positions6=random_queen_position(9,9)\n",
        "time_start = timer()\n",
        "s,t=astar_sol(queen_positions6)\n",
        "time_end=timer()\n",
        "total_time.append(time_end-time_start)\n",
        "explored.append(s)\n",
        "cost.append(t)\n",
        "print(\"Time taken: \",time_end-time_start,\", Optimal path cost: \",t,\", Explored nodes: \",s)"
      ],
      "metadata": {
        "id": "KR8dQw4I2F6t",
        "colab": {
          "base_uri": "https://localhost:8080/"
        },
        "outputId": "dda32847-988f-4025-f803-4a5788de8b37"
      },
      "execution_count": null,
      "outputs": [
        {
          "output_type": "stream",
          "name": "stdout",
          "text": [
            "Time taken:  0.04774169199845346 , Optimal path cost:  17 , Explored nodes:  514\n"
          ]
        }
      ]
    },
    {
      "cell_type": "code",
      "source": [
        "# Test case 7:\n",
        "queen_positions7=random_queen_position(10,10)\n",
        "time_start = timer()\n",
        "s,t=astar_sol(queen_positions7)\n",
        "time_end=timer()\n",
        "total_time.append(time_end-time_start)\n",
        "explored.append(s)\n",
        "cost.append(t)\n",
        "print(\"Time taken: \",time_end-time_start,\", Optimal path cost: \",t,\", Explored nodes: \",s)"
      ],
      "metadata": {
        "id": "xH0uLaXn2Hqk",
        "colab": {
          "base_uri": "https://localhost:8080/"
        },
        "outputId": "9e103130-4581-4c88-a385-ef34f39e852c"
      },
      "execution_count": null,
      "outputs": [
        {
          "output_type": "stream",
          "name": "stdout",
          "text": [
            "Time taken:  0.6616311249999853 , Optimal path cost:  78 , Explored nodes:  3439\n"
          ]
        }
      ]
    },
    {
      "cell_type": "code",
      "source": [
        "import matplotlib.pyplot as plt\n",
        "x=[4,5,6,7,8,9,10]\n",
        "#print(len(total_time),len(cost),len(explored))\n",
        "ax=sns.barplot(x=x,y=total_time)\n",
        "plt.title(\"size vs time\")\n",
        "plt.show()\n",
        "ax=sns.barplot(x=x,y=cost)\n",
        "plt.title(\"size vs cost\")\n",
        "plt.show()\n",
        "ax=sns.barplot(x=x,y=explored)\n",
        "plt.title(\"size vs explored\")\n",
        "plt.show()\n",
        "# x=[4,5,6,7,8,9,10]\n",
        "# #print(len(total_time),len(cost),len(explored))\n",
        "# plt.plot(x, total_time, color='r', label='Time')\n",
        "# plt.plot(x, cost, color='g', label='Cost')\n",
        "# plt.plot(x, explored, color='b', label='Explored Nodes')\n",
        "# plt.xlabel(\"Trails\")\n",
        "# plt.ylabel(\"Magnitude\")\n",
        "# plt.title(\"Explored Nodes, Time and Optimal Cost with respect to each Trails\")\n",
        "# plt.legend()\n",
        "# plt.show()"
      ],
      "metadata": {
        "colab": {
          "base_uri": "https://localhost:8080/",
          "height": 818
        },
        "id": "1VLBH-4d6umB",
        "outputId": "8f9e1d1e-87fd-4dd9-8c5e-58eed78ec8eb"
      },
      "execution_count": null,
      "outputs": [
        {
          "output_type": "display_data",
          "data": {
            "image/png": "[encoded data removed]",
            "text/plain": [
              "<Figure size 432x288 with 1 Axes>"
            ]
          },
          "metadata": {}
        },
        {
          "output_type": "display_data",
          "data": {
            "image/png": "[encoded data removed]",
            "text/plain": [
              "<Figure size 432x288 with 1 Axes>"
            ]
          },
          "metadata": {}
        },
        {
          "output_type": "display_data",
          "data": {
            "image/png": "[encoded data removed]",
            "text/plain": [
              "<Figure size 432x288 with 1 Axes>"
            ]
          },
          "metadata": {}
        }
      ]
    },
    {
      "cell_type": "code",
      "source": [
        "def queen_attacks(queen_positions):\n",
        "\n",
        "        def range_between(a, b):\n",
        "            if a > b:\n",
        "                return range(a - 1, b, -1)\n",
        "            elif a < b:\n",
        "                return range(a + 1, b)\n",
        "            else:\n",
        "                return [a]\n",
        "\n",
        "        def zip_repeat(a, b):\n",
        "            if len(a) == 1:\n",
        "                a = a * len(b)\n",
        "            elif len(b) == 1:\n",
        "                b = b * len(a)\n",
        "            return zip(a, b)\n",
        "\n",
        "        # Finds all the points in between two points\n",
        "        def points_between(a, b):\n",
        "            return zip_repeat(list(range_between(a[0], b[0])), list(range_between(a[1], b[1])))\n",
        "\n",
        "        # Checks if the two pair of coordinates(2 queens) are attacking each other or not,\n",
        "        # also checks if there are queens in between which are also in attacking position\n",
        "        # Returns True/False\n",
        "        def is_attacking(queens, a, b):\n",
        "            if (a[0] == b[0]) or (a[1] == b[1]) or (abs(a[0] - b[0]) == abs(a[1] - b[1])):\n",
        "                for between in points_between(a, b):\n",
        "                    if between in queens:\n",
        "                        return False\n",
        "                return True\n",
        "            else:\n",
        "                return False\n",
        "\n",
        "        attacking_pairs = []\n",
        "        queen_positions = list(queen_positions)\n",
        "        left_to_check = deepcopy(queen_positions)\n",
        "        while left_to_check:\n",
        "            a = left_to_check.pop()\n",
        "            for b in left_to_check:\n",
        "                if is_attacking(queen_positions, a, b):\n",
        "                    attacking_pairs.append([a, b])\n",
        "        # Returns length of all the attacking pairs\n",
        "        return len(attacking_pairs)\n",
        "def new_heuristic(state,goal): # defining a new heuristics \n",
        "    cost=0\n",
        "    # for i in range(len(state)):\n",
        "    #     for j in range(len(state)):\n",
        "    #         if state[i]!=state[j] and attacked(state[i],state[j]):\n",
        "    #             cost+=1\n",
        "    return queen_attacks(state)"
      ],
      "metadata": {
        "id": "lS3xnz-l_CvA"
      },
      "execution_count": null,
      "outputs": []
    },
    {
      "cell_type": "code",
      "source": [
        "def astar_sol(state):\n",
        "    step=0\n",
        "    goal=[]\n",
        "    visited=[]\n",
        "    curr_cost=new_heuristic(state,goal)\n",
        "    curr_state=state\n",
        "    heap=[(curr_cost,curr_state)]\n",
        "    while len(heap):\n",
        "        curr_cost,curr_state=heappop(heap)\n",
        "        if curr_cost==0:\n",
        "            # print(\"goal reached: \",curr_state)\n",
        "            # for i in range(len(state)):\n",
        "            #     for j in range(len(state)):\n",
        "            #         if (i,j) in curr_state:\n",
        "            #             print('Q',end=\" \")\n",
        "            #         else:\n",
        "            #             print(\"_\",end=\" \")\n",
        "            #     print(\"\\n\")\n",
        "            return len(visited),step\n",
        "            break\n",
        "        new_states=get_children(len(state),curr_state)\n",
        "        for i in new_states:\n",
        "            if i not in visited:\n",
        "                new_cost=new_heuristic(i,goal)\n",
        "                if new_cost<curr_cost:\n",
        "                    #print(i,curr_cost,new_cost)\n",
        "                    heappush(heap, (new_cost, i))\n",
        "                    step+=1\n",
        "                visited.append(i)\n",
        "    return len(visited),step"
      ],
      "metadata": {
        "id": "157AbsY6_MSm"
      },
      "execution_count": null,
      "outputs": []
    },
    {
      "cell_type": "code",
      "source": [
        "explored,cost,total_time=[],[],[]\n",
        "time_start = timer()\n",
        "s,t=astar_sol(queen_positions1)\n",
        "time_end=timer()\n",
        "total_time.append(time_end-time_start)\n",
        "explored.append(s)\n",
        "cost.append(t)\n",
        "print(\"Time taken: \",time_end-time_start,\", Optimal path cost: \",t,\", Explored nodes: \",s)\n",
        "# queen_positions7=random_queen_position(10,10)\n",
        "# time_start = timer()\n",
        "# s,t=astar_sol(queen_positions7)\n",
        "# time_end=timer()\n",
        "# print(\"For 10X10 board Number f visited nodes: \",s,\", Optimal path cost: \",t,\", time: \",time_end-time_start)"
      ],
      "metadata": {
        "id": "KLEQARS-_Xt7",
        "colab": {
          "base_uri": "https://localhost:8080/"
        },
        "outputId": "6005825a-592a-4f5c-f988-0a1c90969346"
      },
      "execution_count": null,
      "outputs": [
        {
          "output_type": "stream",
          "name": "stdout",
          "text": [
            "Time taken:  0.0010085960002470529 , Optimal path cost:  5 , Explored nodes:  12\n"
          ]
        }
      ]
    },
    {
      "cell_type": "code",
      "source": [
        "time_start = timer()\n",
        "s,t=astar_sol(queen_positions2)\n",
        "time_end=timer()\n",
        "total_time.append(time_end-time_start)\n",
        "explored.append(s)\n",
        "cost.append(t)\n",
        "print(\"Time taken: \",time_end-time_start,\", Optimal path cost: \",t,\", Explored nodes: \",s)"
      ],
      "metadata": {
        "id": "i9MCaf6rGlrF",
        "colab": {
          "base_uri": "https://localhost:8080/"
        },
        "outputId": "61d271d1-451f-4020-f26a-9442dd6f281d"
      },
      "execution_count": null,
      "outputs": [
        {
          "output_type": "stream",
          "name": "stdout",
          "text": [
            "Time taken:  0.004558552998787491 , Optimal path cost:  4 , Explored nodes:  53\n"
          ]
        }
      ]
    },
    {
      "cell_type": "code",
      "source": [
        "time_start = timer()\n",
        "s,t=astar_sol(queen_positions3)\n",
        "time_end=timer()\n",
        "total_time.append(time_end-time_start)\n",
        "explored.append(s)\n",
        "cost.append(t)\n",
        "print(\"Time taken: \",time_end-time_start,\", Optimal path cost: \",t,\", Explored nodes: \",s)"
      ],
      "metadata": {
        "id": "KgOECPHOGn45",
        "colab": {
          "base_uri": "https://localhost:8080/"
        },
        "outputId": "e06b01c6-56fc-478b-8432-bd5b6d2cb3c1"
      },
      "execution_count": null,
      "outputs": [
        {
          "output_type": "stream",
          "name": "stdout",
          "text": [
            "Time taken:  0.06999457200072356 , Optimal path cost:  35 , Explored nodes:  620\n"
          ]
        }
      ]
    },
    {
      "cell_type": "code",
      "source": [
        "time_start = timer()\n",
        "s,t=astar_sol(queen_positions4)\n",
        "time_end=timer()\n",
        "total_time.append(time_end-time_start)\n",
        "explored.append(s)\n",
        "cost.append(t)\n",
        "print(\"Time taken: \",time_end-time_start,\", Optimal path cost: \",t,\", Explored nodes: \",s)"
      ],
      "metadata": {
        "id": "Sdc-ZqiYGo-_",
        "colab": {
          "base_uri": "https://localhost:8080/"
        },
        "outputId": "038ade18-a9a1-4c90-dc4f-b500d64b3abc"
      },
      "execution_count": null,
      "outputs": [
        {
          "output_type": "stream",
          "name": "stdout",
          "text": [
            "Time taken:  0.046604221999587025 , Optimal path cost:  21 , Explored nodes:  352\n"
          ]
        }
      ]
    },
    {
      "cell_type": "code",
      "source": [
        "time_start = timer()\n",
        "s,t=astar_sol(queen_positions5)\n",
        "time_end=timer()\n",
        "total_time.append(time_end-time_start)\n",
        "explored.append(s)\n",
        "cost.append(t)\n",
        "print(\"Time taken: \",time_end-time_start,\", Optimal path cost: \",t,\", Explored nodes: \",s)"
      ],
      "metadata": {
        "id": "VHmvhAXsGpt3",
        "colab": {
          "base_uri": "https://localhost:8080/"
        },
        "outputId": "2082d5bc-aa86-48f3-a61d-b1e1c4ce54d2"
      },
      "execution_count": null,
      "outputs": [
        {
          "output_type": "stream",
          "name": "stdout",
          "text": [
            "Time taken:  0.058357462999993004 , Optimal path cost:  34 , Explored nodes:  437\n"
          ]
        }
      ]
    },
    {
      "cell_type": "code",
      "source": [
        "time_start = timer()\n",
        "s,t=astar_sol(queen_positions6)\n",
        "time_end=timer()\n",
        "total_time.append(time_end-time_start)\n",
        "explored.append(s)\n",
        "cost.append(t)\n",
        "print(\"Time taken: \",time_end-time_start,\", Optimal path cost: \",t,\", Explored nodes: \",s)"
      ],
      "metadata": {
        "id": "u9cIwlYHGqVj",
        "colab": {
          "base_uri": "https://localhost:8080/"
        },
        "outputId": "ea7f9471-713d-4926-f080-d3ea60fd2347"
      },
      "execution_count": null,
      "outputs": [
        {
          "output_type": "stream",
          "name": "stdout",
          "text": [
            "Time taken:  0.10071367700038536 , Optimal path cost:  30 , Explored nodes:  697\n"
          ]
        }
      ]
    },
    {
      "cell_type": "code",
      "source": [
        "time_start = timer()\n",
        "s,t=astar_sol(queen_positions7)\n",
        "time_end=timer()\n",
        "total_time.append(time_end-time_start)\n",
        "explored.append(s)\n",
        "cost.append(t)\n",
        "print(\"Time taken: \",time_end-time_start,\", Optimal path cost: \",t,\", Explored nodes: \",s)"
      ],
      "metadata": {
        "id": "ryEJKXubGrBu",
        "colab": {
          "base_uri": "https://localhost:8080/"
        },
        "outputId": "abe95e68-dd18-47cc-a0c5-3091205ac6d5"
      },
      "execution_count": null,
      "outputs": [
        {
          "output_type": "stream",
          "name": "stdout",
          "text": [
            "Time taken:  0.07491171900073823 , Optimal path cost:  78 , Explored nodes:  492\n"
          ]
        }
      ]
    },
    {
      "cell_type": "code",
      "source": [
        "import seaborn as sns\n",
        "x=[4,5,6,7,8,9,10]\n",
        "#print(len(total_time),len(cost),len(explored))\n",
        "ax=sns.barplot(x=x,y=total_time)\n",
        "plt.title(\"size vs time\")\n",
        "plt.show()\n",
        "ax=sns.barplot(x=x,y=cost)\n",
        "plt.title(\"size vs cost\")\n",
        "plt.show()\n",
        "ax=sns.barplot(x=x,y=explored)\n",
        "plt.title(\"size vs explored\")\n",
        "plt.show()\n",
        "# plt.plot(x, total_time, color='r', label='Time')\n",
        "# plt.plot(x, cost, color='g', label='Cost')\n",
        "# plt.plot(x, explored, color='b', label='Explored Nodes')\n",
        "# plt.xlabel(\"Trails\")\n",
        "# plt.ylabel(\"Magnitude\")\n",
        "# plt.title(\"Explored Nodes, Time and Optimal Cost with respect to each Trails\")\n",
        "# plt.legend()\n",
        "# plt.show()"
      ],
      "metadata": {
        "colab": {
          "base_uri": "https://localhost:8080/",
          "height": 818
        },
        "id": "rf85bwvpHaJO",
        "outputId": "31a1d5ca-4106-4728-fead-4b3f1316e273"
      },
      "execution_count": null,
      "outputs": [
        {
          "output_type": "display_data",
          "data": {
            "image/png": "[encoded data removed]",
            "text/plain": [
              "<Figure size 432x288 with 1 Axes>"
            ]
          },
          "metadata": {}
        },
        {
          "output_type": "display_data",
          "data": {
            "image/png": "[encoded data removed]",
            "text/plain": [
              "<Figure size 432x288 with 1 Axes>"
            ]
          },
          "metadata": {}
        },
        {
          "output_type": "display_data",
          "data": {
            "image/png": "[encoded data removed]",
            "text/plain": [
              "<Figure size 432x288 with 1 Axes>"
            ]
          },
          "metadata": {}
        }
      ]
    }
  ]
}